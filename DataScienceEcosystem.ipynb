{
 "cells": [
  {
   "cell_type": "markdown",
   "id": "137c777c-1281-40f2-a6f1-0fa6f15125a6",
   "metadata": {},
   "source": [
    "# Data Science Tools and Ecosystem"
   ]
  },
  {
   "cell_type": "markdown",
   "id": "dc025220-dcaa-4c98-880e-3512685f43c3",
   "metadata": {},
   "source": [
    "## In this notebook, Data Science Tools and Ecosystem are summarized."
   ]
  },
  {
   "cell_type": "markdown",
   "id": "2302bf33-9def-4346-8325-0a0133beedda",
   "metadata": {},
   "source": [
    "**Objectives:**\n",
    "- Python\n",
    "- R\n",
    "- SQL"
   ]
  },
  {
   "cell_type": "markdown",
   "id": "fcb41877-9abb-406c-8d62-569dcb4de7fc",
   "metadata": {},
   "source": [
    "#### Some of the popular languages that Data Scientists use are:\n",
    "1. Python\n",
    "2. R\n",
    "3. SQL"
   ]
  },
  {
   "cell_type": "markdown",
   "id": "28e2eea8-e307-4bc9-8eed-c1ffcbedd29f",
   "metadata": {},
   "source": [
    "#### Some of the commonly used libraries used by Data Scientists include:\n",
    "1. NumPy.\n",
    "2. Pandas.\n",
    "3. Matplotlib.\n",
    "4. SciPy."
   ]
  },
  {
   "cell_type": "markdown",
   "id": "f39681f5-1ac0-44bd-bee3-e38f0d6cae2c",
   "metadata": {},
   "source": [
    "| Data Science Tools |\n",
    "|---------|\n",
    "| Apache Hadoop |\n",
    "| Apache Spark |\n",
    "| TensorFlow |"
   ]
  },
  {
   "cell_type": "markdown",
   "id": "09dd7a46-1bfc-4a7d-b056-54060002ff66",
   "metadata": {},
   "source": [
    "### Below are a few examples of evaluating arithmetic expressions in Python"
   ]
  },
  {
   "cell_type": "code",
   "execution_count": 3,
   "id": "1830ca55-e2bb-4a9e-bb1e-4b854b501552",
   "metadata": {
    "tags": []
   },
   "outputs": [
    {
     "data": {
      "text/plain": [
       "17"
      ]
     },
     "execution_count": 3,
     "metadata": {},
     "output_type": "execute_result"
    }
   ],
   "source": [
    "##This a simple arithmetic expression to mutiply then add integers\n",
    "(3*4)+5"
   ]
  },
  {
   "cell_type": "code",
   "execution_count": 4,
   "id": "307cd14a-4a14-46cc-99ab-799742d18e26",
   "metadata": {
    "tags": []
   },
   "outputs": [
    {
     "data": {
      "text/plain": [
       "3.3333333333333335"
      ]
     },
     "execution_count": 4,
     "metadata": {},
     "output_type": "execute_result"
    }
   ],
   "source": [
    "##This will convert 200 minutes to hours by diving by 60\n",
    "200/60"
   ]
  },
  {
   "cell_type": "markdown",
   "id": "dab2da11-6812-40a0-bcb3-223b1e4dd3ae",
   "metadata": {},
   "source": [
    "## Author\n",
    "Kamran Ashraf"
   ]
  },
  {
   "cell_type": "code",
   "execution_count": null,
   "id": "d2b4f424-e323-4b1b-90cb-9a363b64382e",
   "metadata": {},
   "outputs": [],
   "source": []
  }
 ],
 "metadata": {
  "kernelspec": {
   "display_name": "Python",
   "language": "python",
   "name": "conda-env-python-py"
  },
  "language_info": {
   "codemirror_mode": {
    "name": "ipython",
    "version": 3
   },
   "file_extension": ".py",
   "mimetype": "text/x-python",
   "name": "python",
   "nbconvert_exporter": "python",
   "pygments_lexer": "ipython3",
   "version": "3.7.12"
  }
 },
 "nbformat": 4,
 "nbformat_minor": 5
}
